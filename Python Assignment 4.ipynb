{
 "cells": [
  {
   "cell_type": "markdown",
   "metadata": {},
   "source": [
    "1.1 Write a python program(with class concepts) to find the area of the triangle using the below formula\n",
    "\n",
    "area = (s*(s-a)*(s-b)*(s-c))**0.5\n",
    "\n",
    "Function to take the length of the sides of triangle from user should be defined in the parent class\n",
    " and function to calculate the area should be defined in subclass.\n",
    "\n"
   ]
  },
  {
   "cell_type": "code",
   "execution_count": 4,
   "metadata": {},
   "outputs": [
    {
     "name": "stdout",
     "output_type": "stream",
     "text": [
      "Please insert a value : 20\n",
      "Please insert b value : 30\n",
      "Please insert c value : 40\n",
      "Area of triangle is  290.4737509655563\n"
     ]
    }
   ],
   "source": [
    "a, b, c = float(input(\"Please insert a value : \")), float(input(\"Please insert b value : \")), float(input(\"Please insert c value : \"))\n",
    "\n",
    "class sides:\n",
    "    def __init__(self,a,b,c):\n",
    "        self.a=a\n",
    "        self.b=b\n",
    "        self.c=c\n",
    "        \n",
    "class triangle(sides):\n",
    "    def area(self): # function to calculate the area of triangle\n",
    "        s=(self.a+self.b+self.c)*0.5\n",
    "        return float((s * (s - self.a) * (s - self.b) * (s - self.c))) ** 0.5\n",
    "\n",
    "\n",
    "t=triangle(a,b,c) # To drive the code \n",
    "\n",
    "print('Area of triangle is ', t.area())"
   ]
  },
  {
   "cell_type": "raw",
   "metadata": {},
   "source": [
    "1.2 Write a function filter_long_words() that takes a list of words and an integer n and returns \n",
    "the list of words that are longer than n."
   ]
  },
  {
   "cell_type": "code",
   "execution_count": 11,
   "metadata": {},
   "outputs": [
    {
     "name": "stdout",
     "output_type": "stream",
     "text": [
      "List of words that are longer than user's input (n) :  ['Slow', 'wins', 'race']\n"
     ]
    }
   ],
   "source": [
    "\n",
    "def filter_long_words(lst,n):\n",
    "    \n",
    "    return [word for word in lst if len(word)>n]\n",
    "\n",
    "print(\"List of words that are longer than user's input (n) : \", filter_long_words(['Slow', 'and' ,'run', 'wins', 'the' ,'race'], 3))\n"
   ]
  },
  {
   "cell_type": "markdown",
   "metadata": {},
   "source": [
    "2.1 Write a Python program using function concept that maps list of words into a list of integers representing the lengths of the corresponding words . Hint: If a list [ ab,cde,erty] is passed on to the python function output should come as [2,3,4] Here 2,3 and 4 are the lengths of the words in the list."
   ]
  },
  {
   "cell_type": "code",
   "execution_count": 3,
   "metadata": {},
   "outputs": [
    {
     "name": "stdout",
     "output_type": "stream",
     "text": [
      "Input : Please enter Words : ab,cde,erty\n",
      "Output: Length of Words are : [2, 3, 4]\n"
     ]
    }
   ],
   "source": [
    "def map_Words_to_Length(List):\n",
    "    return list(map(len, List))\n",
    "\n",
    "word_List=list(input(\"Input : Please enter Words : \").split(\",\"))\n",
    "\n",
    "#List Comprehension has been done to remove white trailing white spaces\n",
    "List=[x.strip() for x in word_List]\n",
    "\n",
    "#drive the code\n",
    "Words_lengths=map_Words_to_Length(List)\n",
    "\n",
    "print(\"Output: Length of Words are :\",Words_lengths )"
   ]
  },
  {
   "cell_type": "markdown",
   "metadata": {},
   "source": [
    "2.2 Write a Python function which takes a character (i.e. a string of length 1) and returns True if\n",
    "it is a vowel, False otherwise."
   ]
  },
  {
   "cell_type": "code",
   "execution_count": 2,
   "metadata": {},
   "outputs": [
    {
     "name": "stdout",
     "output_type": "stream",
     "text": [
      "Enter a character to check that it is Vowel or not: A\n",
      "Output Value: True\n"
     ]
    }
   ],
   "source": [
    "input_value = input(\"Enter a character to check that it is Vowel or not: \")\n",
    "\n",
    "# function to check given character is vowel or not\n",
    "def vowel_checker(char):\n",
    "    if char.lower() in 'aeiou':\n",
    "        return True\n",
    "    if char.upper() in 'AEIOU':\n",
    "        return TRUE\n",
    "    else:\n",
    "        return False\n",
    "    \n",
    "#drive the code\n",
    "result = vowel_checker(input_value) \n",
    "\n",
    "#Output\n",
    "print(\"Output Value:\",result)\n"
   ]
  },
  {
   "cell_type": "code",
   "execution_count": null,
   "metadata": {},
   "outputs": [],
   "source": []
  }
 ],
 "metadata": {
  "kernelspec": {
   "display_name": "Python 3",
   "language": "python",
   "name": "python3"
  },
  "language_info": {
   "codemirror_mode": {
    "name": "ipython",
    "version": 3
   },
   "file_extension": ".py",
   "mimetype": "text/x-python",
   "name": "python",
   "nbconvert_exporter": "python",
   "pygments_lexer": "ipython3",
   "version": "3.7.4"
  }
 },
 "nbformat": 4,
 "nbformat_minor": 2
}
